{
  "nbformat": 4,
  "nbformat_minor": 0,
  "metadata": {
    "colab": {
      "name": "CNN_HandsOn.ipynb",
      "provenance": [],
      "collapsed_sections": [],
      "machine_shape": "hm",
      "authorship_tag": "ABX9TyPqOeCGxZ6X28XyIDZxgcK1",
      "include_colab_link": true
    },
    "kernelspec": {
      "name": "python3",
      "display_name": "Python 3"
    },
    "language_info": {
      "name": "python"
    },
    "accelerator": "GPU",
    "gpuClass": "standard",
    "widgets": {
      "application/vnd.jupyter.widget-state+json": {
        "692ed56a73604eae9747400f39884df2": {
          "model_module": "@jupyter-widgets/controls",
          "model_name": "HBoxModel",
          "model_module_version": "1.5.0",
          "state": {
            "_dom_classes": [],
            "_model_module": "@jupyter-widgets/controls",
            "_model_module_version": "1.5.0",
            "_model_name": "HBoxModel",
            "_view_count": null,
            "_view_module": "@jupyter-widgets/controls",
            "_view_module_version": "1.5.0",
            "_view_name": "HBoxView",
            "box_style": "",
            "children": [
              "IPY_MODEL_287a2f2b0b1f4d83b5d7c006579461d9",
              "IPY_MODEL_e9ee45e4ff25484897eb5876543ca08e",
              "IPY_MODEL_f6b8ecd1015a45e9962f17aa2ce32bcc"
            ],
            "layout": "IPY_MODEL_cedeba7835914ccdbb0c411d95fb3dca"
          }
        },
        "287a2f2b0b1f4d83b5d7c006579461d9": {
          "model_module": "@jupyter-widgets/controls",
          "model_name": "HTMLModel",
          "model_module_version": "1.5.0",
          "state": {
            "_dom_classes": [],
            "_model_module": "@jupyter-widgets/controls",
            "_model_module_version": "1.5.0",
            "_model_name": "HTMLModel",
            "_view_count": null,
            "_view_module": "@jupyter-widgets/controls",
            "_view_module_version": "1.5.0",
            "_view_name": "HTMLView",
            "description": "",
            "description_tooltip": null,
            "layout": "IPY_MODEL_9e0c491fb3d845aeab35dde44bae6615",
            "placeholder": "​",
            "style": "IPY_MODEL_d87bacbb60064e49a9227b7aa7017180",
            "value": "100%"
          }
        },
        "e9ee45e4ff25484897eb5876543ca08e": {
          "model_module": "@jupyter-widgets/controls",
          "model_name": "FloatProgressModel",
          "model_module_version": "1.5.0",
          "state": {
            "_dom_classes": [],
            "_model_module": "@jupyter-widgets/controls",
            "_model_module_version": "1.5.0",
            "_model_name": "FloatProgressModel",
            "_view_count": null,
            "_view_module": "@jupyter-widgets/controls",
            "_view_module_version": "1.5.0",
            "_view_name": "ProgressView",
            "bar_style": "success",
            "description": "",
            "description_tooltip": null,
            "layout": "IPY_MODEL_933ce03e37bb46c9af82cb13ae649a2b",
            "max": 86721253,
            "min": 0,
            "orientation": "horizontal",
            "style": "IPY_MODEL_85c6ca8ad96a4052af2090f4922e06bf",
            "value": 86721253
          }
        },
        "f6b8ecd1015a45e9962f17aa2ce32bcc": {
          "model_module": "@jupyter-widgets/controls",
          "model_name": "HTMLModel",
          "model_module_version": "1.5.0",
          "state": {
            "_dom_classes": [],
            "_model_module": "@jupyter-widgets/controls",
            "_model_module_version": "1.5.0",
            "_model_name": "HTMLModel",
            "_view_count": null,
            "_view_module": "@jupyter-widgets/controls",
            "_view_module_version": "1.5.0",
            "_view_name": "HTMLView",
            "description": "",
            "description_tooltip": null,
            "layout": "IPY_MODEL_562ab3c5e2194965b186a8e78c1408fa",
            "placeholder": "​",
            "style": "IPY_MODEL_6696f76a2a0443498b57450613f8d1ef",
            "value": " 82.7M/82.7M [00:00&lt;00:00, 150MB/s]"
          }
        },
        "cedeba7835914ccdbb0c411d95fb3dca": {
          "model_module": "@jupyter-widgets/base",
          "model_name": "LayoutModel",
          "model_module_version": "1.2.0",
          "state": {
            "_model_module": "@jupyter-widgets/base",
            "_model_module_version": "1.2.0",
            "_model_name": "LayoutModel",
            "_view_count": null,
            "_view_module": "@jupyter-widgets/base",
            "_view_module_version": "1.2.0",
            "_view_name": "LayoutView",
            "align_content": null,
            "align_items": null,
            "align_self": null,
            "border": null,
            "bottom": null,
            "display": null,
            "flex": null,
            "flex_flow": null,
            "grid_area": null,
            "grid_auto_columns": null,
            "grid_auto_flow": null,
            "grid_auto_rows": null,
            "grid_column": null,
            "grid_gap": null,
            "grid_row": null,
            "grid_template_areas": null,
            "grid_template_columns": null,
            "grid_template_rows": null,
            "height": null,
            "justify_content": null,
            "justify_items": null,
            "left": null,
            "margin": null,
            "max_height": null,
            "max_width": null,
            "min_height": null,
            "min_width": null,
            "object_fit": null,
            "object_position": null,
            "order": null,
            "overflow": null,
            "overflow_x": null,
            "overflow_y": null,
            "padding": null,
            "right": null,
            "top": null,
            "visibility": null,
            "width": null
          }
        },
        "9e0c491fb3d845aeab35dde44bae6615": {
          "model_module": "@jupyter-widgets/base",
          "model_name": "LayoutModel",
          "model_module_version": "1.2.0",
          "state": {
            "_model_module": "@jupyter-widgets/base",
            "_model_module_version": "1.2.0",
            "_model_name": "LayoutModel",
            "_view_count": null,
            "_view_module": "@jupyter-widgets/base",
            "_view_module_version": "1.2.0",
            "_view_name": "LayoutView",
            "align_content": null,
            "align_items": null,
            "align_self": null,
            "border": null,
            "bottom": null,
            "display": null,
            "flex": null,
            "flex_flow": null,
            "grid_area": null,
            "grid_auto_columns": null,
            "grid_auto_flow": null,
            "grid_auto_rows": null,
            "grid_column": null,
            "grid_gap": null,
            "grid_row": null,
            "grid_template_areas": null,
            "grid_template_columns": null,
            "grid_template_rows": null,
            "height": null,
            "justify_content": null,
            "justify_items": null,
            "left": null,
            "margin": null,
            "max_height": null,
            "max_width": null,
            "min_height": null,
            "min_width": null,
            "object_fit": null,
            "object_position": null,
            "order": null,
            "overflow": null,
            "overflow_x": null,
            "overflow_y": null,
            "padding": null,
            "right": null,
            "top": null,
            "visibility": null,
            "width": null
          }
        },
        "d87bacbb60064e49a9227b7aa7017180": {
          "model_module": "@jupyter-widgets/controls",
          "model_name": "DescriptionStyleModel",
          "model_module_version": "1.5.0",
          "state": {
            "_model_module": "@jupyter-widgets/controls",
            "_model_module_version": "1.5.0",
            "_model_name": "DescriptionStyleModel",
            "_view_count": null,
            "_view_module": "@jupyter-widgets/base",
            "_view_module_version": "1.2.0",
            "_view_name": "StyleView",
            "description_width": ""
          }
        },
        "933ce03e37bb46c9af82cb13ae649a2b": {
          "model_module": "@jupyter-widgets/base",
          "model_name": "LayoutModel",
          "model_module_version": "1.2.0",
          "state": {
            "_model_module": "@jupyter-widgets/base",
            "_model_module_version": "1.2.0",
            "_model_name": "LayoutModel",
            "_view_count": null,
            "_view_module": "@jupyter-widgets/base",
            "_view_module_version": "1.2.0",
            "_view_name": "LayoutView",
            "align_content": null,
            "align_items": null,
            "align_self": null,
            "border": null,
            "bottom": null,
            "display": null,
            "flex": null,
            "flex_flow": null,
            "grid_area": null,
            "grid_auto_columns": null,
            "grid_auto_flow": null,
            "grid_auto_rows": null,
            "grid_column": null,
            "grid_gap": null,
            "grid_row": null,
            "grid_template_areas": null,
            "grid_template_columns": null,
            "grid_template_rows": null,
            "height": null,
            "justify_content": null,
            "justify_items": null,
            "left": null,
            "margin": null,
            "max_height": null,
            "max_width": null,
            "min_height": null,
            "min_width": null,
            "object_fit": null,
            "object_position": null,
            "order": null,
            "overflow": null,
            "overflow_x": null,
            "overflow_y": null,
            "padding": null,
            "right": null,
            "top": null,
            "visibility": null,
            "width": null
          }
        },
        "85c6ca8ad96a4052af2090f4922e06bf": {
          "model_module": "@jupyter-widgets/controls",
          "model_name": "ProgressStyleModel",
          "model_module_version": "1.5.0",
          "state": {
            "_model_module": "@jupyter-widgets/controls",
            "_model_module_version": "1.5.0",
            "_model_name": "ProgressStyleModel",
            "_view_count": null,
            "_view_module": "@jupyter-widgets/base",
            "_view_module_version": "1.2.0",
            "_view_name": "StyleView",
            "bar_color": null,
            "description_width": ""
          }
        },
        "562ab3c5e2194965b186a8e78c1408fa": {
          "model_module": "@jupyter-widgets/base",
          "model_name": "LayoutModel",
          "model_module_version": "1.2.0",
          "state": {
            "_model_module": "@jupyter-widgets/base",
            "_model_module_version": "1.2.0",
            "_model_name": "LayoutModel",
            "_view_count": null,
            "_view_module": "@jupyter-widgets/base",
            "_view_module_version": "1.2.0",
            "_view_name": "LayoutView",
            "align_content": null,
            "align_items": null,
            "align_self": null,
            "border": null,
            "bottom": null,
            "display": null,
            "flex": null,
            "flex_flow": null,
            "grid_area": null,
            "grid_auto_columns": null,
            "grid_auto_flow": null,
            "grid_auto_rows": null,
            "grid_column": null,
            "grid_gap": null,
            "grid_row": null,
            "grid_template_areas": null,
            "grid_template_columns": null,
            "grid_template_rows": null,
            "height": null,
            "justify_content": null,
            "justify_items": null,
            "left": null,
            "margin": null,
            "max_height": null,
            "max_width": null,
            "min_height": null,
            "min_width": null,
            "object_fit": null,
            "object_position": null,
            "order": null,
            "overflow": null,
            "overflow_x": null,
            "overflow_y": null,
            "padding": null,
            "right": null,
            "top": null,
            "visibility": null,
            "width": null
          }
        },
        "6696f76a2a0443498b57450613f8d1ef": {
          "model_module": "@jupyter-widgets/controls",
          "model_name": "DescriptionStyleModel",
          "model_module_version": "1.5.0",
          "state": {
            "_model_module": "@jupyter-widgets/controls",
            "_model_module_version": "1.5.0",
            "_model_name": "DescriptionStyleModel",
            "_view_count": null,
            "_view_module": "@jupyter-widgets/base",
            "_view_module_version": "1.2.0",
            "_view_name": "StyleView",
            "description_width": ""
          }
        }
      }
    }
  },
  "cells": [
    {
      "cell_type": "markdown",
      "metadata": {
        "id": "view-in-github",
        "colab_type": "text"
      },
      "source": [
        "<a href=\"https://colab.research.google.com/github/bacetiner/BRAILS/blob/master/BRAILS_TransferLearning.ipynb\" target=\"_parent\"><img src=\"https://colab.research.google.com/assets/colab-badge.svg\" alt=\"Open In Colab\"/></a>"
      ]
    },
    {
      "cell_type": "markdown",
      "source": [
        "If you are running this on Colab, please make sure to change your Runtime Type to GPU."
      ],
      "metadata": {
        "id": "-EzMalcgliJY"
      }
    },
    {
      "cell_type": "markdown",
      "source": [
        "## Import required packages:\n"
      ],
      "metadata": {
        "id": "0jlclyj_6ziE"
      }
    },
    {
      "cell_type": "code",
      "source": [
        "%matplotlib inline\n",
        "import numpy as np\n",
        "import cv2\n",
        "import os\n",
        "import matplotlib.pyplot as plt\n",
        "import random"
      ],
      "metadata": {
        "id": "OBM_6wPw6xWE"
      },
      "execution_count": 1,
      "outputs": []
    },
    {
      "cell_type": "markdown",
      "source": [
        "## Install the latest version of BRAILS:"
      ],
      "metadata": {
        "id": "hT9K-n0F4RHQ"
      }
    },
    {
      "cell_type": "code",
      "execution_count": 2,
      "metadata": {
        "colab": {
          "base_uri": "https://localhost:8080/"
        },
        "id": "3gvGm6XU3zry",
        "outputId": "e3198bfe-3272-44f8-d0a4-e0364360053e"
      },
      "outputs": [
        {
          "output_type": "stream",
          "name": "stdout",
          "text": [
            "Looking in indexes: https://pypi.org/simple, https://us-python.pkg.dev/colab-wheels/public/simple/\n",
            "Collecting git+https://github.com/NHERI-SimCenter/BRAILS\n",
            "  Cloning https://github.com/NHERI-SimCenter/BRAILS to /tmp/pip-req-build-27qo7pbt\n",
            "  Running command git clone -q https://github.com/NHERI-SimCenter/BRAILS /tmp/pip-req-build-27qo7pbt\n",
            "Requirement already satisfied: matplotlib in /usr/local/lib/python3.7/dist-packages (from BRAILS==2.0.1.dev404+g791f033) (3.2.2)\n",
            "Requirement already satisfied: numpy in /usr/local/lib/python3.7/dist-packages (from BRAILS==2.0.1.dev404+g791f033) (1.21.6)\n",
            "Requirement already satisfied: pandas in /usr/local/lib/python3.7/dist-packages (from BRAILS==2.0.1.dev404+g791f033) (1.3.5)\n",
            "Requirement already satisfied: requests in /usr/local/lib/python3.7/dist-packages (from BRAILS==2.0.1.dev404+g791f033) (2.23.0)\n",
            "Requirement already satisfied: scipy in /usr/local/lib/python3.7/dist-packages (from BRAILS==2.0.1.dev404+g791f033) (1.7.3)\n",
            "Requirement already satisfied: seaborn in /usr/local/lib/python3.7/dist-packages (from BRAILS==2.0.1.dev404+g791f033) (0.11.2)\n",
            "Collecting wget\n",
            "  Downloading wget-3.2.zip (10 kB)\n",
            "Requirement already satisfied: shapely in /usr/local/lib/python3.7/dist-packages (from BRAILS==2.0.1.dev404+g791f033) (1.8.2)\n",
            "Requirement already satisfied: opencv-python in /usr/local/lib/python3.7/dist-packages (from BRAILS==2.0.1.dev404+g791f033) (4.6.0.66)\n",
            "Requirement already satisfied: tqdm in /usr/local/lib/python3.7/dist-packages (from BRAILS==2.0.1.dev404+g791f033) (4.64.0)\n",
            "Requirement already satisfied: tensorboard in /usr/local/lib/python3.7/dist-packages (from BRAILS==2.0.1.dev404+g791f033) (2.8.0)\n",
            "Collecting tensorboardX\n",
            "  Downloading tensorboardX-2.5.1-py2.py3-none-any.whl (125 kB)\n",
            "\u001b[K     |████████████████████████████████| 125 kB 6.7 MB/s \n",
            "\u001b[?25hCollecting webcolors\n",
            "  Downloading webcolors-1.12-py3-none-any.whl (9.9 kB)\n",
            "Requirement already satisfied: pyyaml in /usr/local/lib/python3.7/dist-packages (from BRAILS==2.0.1.dev404+g791f033) (3.13)\n",
            "Requirement already satisfied: torch>=1.7 in /usr/local/lib/python3.7/dist-packages (from BRAILS==2.0.1.dev404+g791f033) (1.12.0+cu113)\n",
            "Requirement already satisfied: torchvision in /usr/local/lib/python3.7/dist-packages (from BRAILS==2.0.1.dev404+g791f033) (0.13.0+cu113)\n",
            "Collecting timm\n",
            "  Downloading timm-0.6.5-py3-none-any.whl (512 kB)\n",
            "\u001b[K     |████████████████████████████████| 512 kB 48.9 MB/s \n",
            "\u001b[?25hCollecting yacs\n",
            "  Downloading yacs-0.1.8-py3-none-any.whl (14 kB)\n",
            "Requirement already satisfied: Pillow in /usr/local/lib/python3.7/dist-packages (from BRAILS==2.0.1.dev404+g791f033) (7.1.2)\n",
            "Requirement already satisfied: sklearn in /usr/local/lib/python3.7/dist-packages (from BRAILS==2.0.1.dev404+g791f033) (0.0)\n",
            "Requirement already satisfied: typing-extensions in /usr/local/lib/python3.7/dist-packages (from torch>=1.7->BRAILS==2.0.1.dev404+g791f033) (4.1.1)\n",
            "Requirement already satisfied: kiwisolver>=1.0.1 in /usr/local/lib/python3.7/dist-packages (from matplotlib->BRAILS==2.0.1.dev404+g791f033) (1.4.4)\n",
            "Requirement already satisfied: cycler>=0.10 in /usr/local/lib/python3.7/dist-packages (from matplotlib->BRAILS==2.0.1.dev404+g791f033) (0.11.0)\n",
            "Requirement already satisfied: python-dateutil>=2.1 in /usr/local/lib/python3.7/dist-packages (from matplotlib->BRAILS==2.0.1.dev404+g791f033) (2.8.2)\n",
            "Requirement already satisfied: pyparsing!=2.0.4,!=2.1.2,!=2.1.6,>=2.0.1 in /usr/local/lib/python3.7/dist-packages (from matplotlib->BRAILS==2.0.1.dev404+g791f033) (3.0.9)\n",
            "Requirement already satisfied: six>=1.5 in /usr/local/lib/python3.7/dist-packages (from python-dateutil>=2.1->matplotlib->BRAILS==2.0.1.dev404+g791f033) (1.15.0)\n",
            "Requirement already satisfied: pytz>=2017.3 in /usr/local/lib/python3.7/dist-packages (from pandas->BRAILS==2.0.1.dev404+g791f033) (2022.1)\n",
            "Requirement already satisfied: idna<3,>=2.5 in /usr/local/lib/python3.7/dist-packages (from requests->BRAILS==2.0.1.dev404+g791f033) (2.10)\n",
            "Requirement already satisfied: certifi>=2017.4.17 in /usr/local/lib/python3.7/dist-packages (from requests->BRAILS==2.0.1.dev404+g791f033) (2022.6.15)\n",
            "Requirement already satisfied: urllib3!=1.25.0,!=1.25.1,<1.26,>=1.21.1 in /usr/local/lib/python3.7/dist-packages (from requests->BRAILS==2.0.1.dev404+g791f033) (1.24.3)\n",
            "Requirement already satisfied: chardet<4,>=3.0.2 in /usr/local/lib/python3.7/dist-packages (from requests->BRAILS==2.0.1.dev404+g791f033) (3.0.4)\n",
            "Requirement already satisfied: scikit-learn in /usr/local/lib/python3.7/dist-packages (from sklearn->BRAILS==2.0.1.dev404+g791f033) (1.0.2)\n",
            "Requirement already satisfied: threadpoolctl>=2.0.0 in /usr/local/lib/python3.7/dist-packages (from scikit-learn->sklearn->BRAILS==2.0.1.dev404+g791f033) (3.1.0)\n",
            "Requirement already satisfied: joblib>=0.11 in /usr/local/lib/python3.7/dist-packages (from scikit-learn->sklearn->BRAILS==2.0.1.dev404+g791f033) (1.1.0)\n",
            "Requirement already satisfied: google-auth-oauthlib<0.5,>=0.4.1 in /usr/local/lib/python3.7/dist-packages (from tensorboard->BRAILS==2.0.1.dev404+g791f033) (0.4.6)\n",
            "Requirement already satisfied: absl-py>=0.4 in /usr/local/lib/python3.7/dist-packages (from tensorboard->BRAILS==2.0.1.dev404+g791f033) (1.2.0)\n",
            "Requirement already satisfied: google-auth<3,>=1.6.3 in /usr/local/lib/python3.7/dist-packages (from tensorboard->BRAILS==2.0.1.dev404+g791f033) (1.35.0)\n",
            "Requirement already satisfied: werkzeug>=0.11.15 in /usr/local/lib/python3.7/dist-packages (from tensorboard->BRAILS==2.0.1.dev404+g791f033) (1.0.1)\n",
            "Requirement already satisfied: tensorboard-data-server<0.7.0,>=0.6.0 in /usr/local/lib/python3.7/dist-packages (from tensorboard->BRAILS==2.0.1.dev404+g791f033) (0.6.1)\n",
            "Requirement already satisfied: wheel>=0.26 in /usr/local/lib/python3.7/dist-packages (from tensorboard->BRAILS==2.0.1.dev404+g791f033) (0.37.1)\n",
            "Requirement already satisfied: grpcio>=1.24.3 in /usr/local/lib/python3.7/dist-packages (from tensorboard->BRAILS==2.0.1.dev404+g791f033) (1.47.0)\n",
            "Requirement already satisfied: protobuf>=3.6.0 in /usr/local/lib/python3.7/dist-packages (from tensorboard->BRAILS==2.0.1.dev404+g791f033) (3.17.3)\n",
            "Requirement already satisfied: tensorboard-plugin-wit>=1.6.0 in /usr/local/lib/python3.7/dist-packages (from tensorboard->BRAILS==2.0.1.dev404+g791f033) (1.8.1)\n",
            "Requirement already satisfied: setuptools>=41.0.0 in /usr/local/lib/python3.7/dist-packages (from tensorboard->BRAILS==2.0.1.dev404+g791f033) (57.4.0)\n",
            "Requirement already satisfied: markdown>=2.6.8 in /usr/local/lib/python3.7/dist-packages (from tensorboard->BRAILS==2.0.1.dev404+g791f033) (3.4.1)\n",
            "Requirement already satisfied: pyasn1-modules>=0.2.1 in /usr/local/lib/python3.7/dist-packages (from google-auth<3,>=1.6.3->tensorboard->BRAILS==2.0.1.dev404+g791f033) (0.2.8)\n",
            "Requirement already satisfied: rsa<5,>=3.1.4 in /usr/local/lib/python3.7/dist-packages (from google-auth<3,>=1.6.3->tensorboard->BRAILS==2.0.1.dev404+g791f033) (4.9)\n",
            "Requirement already satisfied: cachetools<5.0,>=2.0.0 in /usr/local/lib/python3.7/dist-packages (from google-auth<3,>=1.6.3->tensorboard->BRAILS==2.0.1.dev404+g791f033) (4.2.4)\n",
            "Requirement already satisfied: requests-oauthlib>=0.7.0 in /usr/local/lib/python3.7/dist-packages (from google-auth-oauthlib<0.5,>=0.4.1->tensorboard->BRAILS==2.0.1.dev404+g791f033) (1.3.1)\n",
            "Requirement already satisfied: importlib-metadata>=4.4 in /usr/local/lib/python3.7/dist-packages (from markdown>=2.6.8->tensorboard->BRAILS==2.0.1.dev404+g791f033) (4.12.0)\n",
            "Requirement already satisfied: zipp>=0.5 in /usr/local/lib/python3.7/dist-packages (from importlib-metadata>=4.4->markdown>=2.6.8->tensorboard->BRAILS==2.0.1.dev404+g791f033) (3.8.1)\n",
            "Requirement already satisfied: pyasn1<0.5.0,>=0.4.6 in /usr/local/lib/python3.7/dist-packages (from pyasn1-modules>=0.2.1->google-auth<3,>=1.6.3->tensorboard->BRAILS==2.0.1.dev404+g791f033) (0.4.8)\n",
            "Requirement already satisfied: oauthlib>=3.0.0 in /usr/local/lib/python3.7/dist-packages (from requests-oauthlib>=0.7.0->google-auth-oauthlib<0.5,>=0.4.1->tensorboard->BRAILS==2.0.1.dev404+g791f033) (3.2.0)\n",
            "Building wheels for collected packages: BRAILS, wget\n",
            "  Building wheel for BRAILS (setup.py) ... \u001b[?25l\u001b[?25hdone\n",
            "  Created wheel for BRAILS: filename=BRAILS-2.0.1.dev404+g791f033-py3-none-any.whl size=9149836 sha256=baab762bffe507ed8b7e9069dfe6bc461f7c9b9cf5a5cefaed9a5f0d502eb80e\n",
            "  Stored in directory: /tmp/pip-ephem-wheel-cache-d6_htc_9/wheels/95/f4/e3/a6a0d6655270cc9295155895448d84860de3e7b8a1f4fa8840\n",
            "  Building wheel for wget (setup.py) ... \u001b[?25l\u001b[?25hdone\n",
            "  Created wheel for wget: filename=wget-3.2-py3-none-any.whl size=9675 sha256=452c1c1c179bdde75ea4f4a0ef1137f43e92efdc48a91c7b253191481d2aab7d\n",
            "  Stored in directory: /root/.cache/pip/wheels/a1/b6/7c/0e63e34eb06634181c63adacca38b79ff8f35c37e3c13e3c02\n",
            "Successfully built BRAILS wget\n",
            "Installing collected packages: yacs, wget, webcolors, timm, tensorboardX, BRAILS\n",
            "Successfully installed BRAILS-2.0.1.dev404+g791f033 tensorboardX-2.5.1 timm-0.6.5 webcolors-1.12 wget-3.2 yacs-0.1.8\n"
          ]
        }
      ],
      "source": [
        "!pip install git+https://github.com/NHERI-SimCenter/BRAILS"
      ]
    },
    {
      "cell_type": "markdown",
      "source": [
        "## Download PEER Hub ImageNet Φ-Net Data for Building Collapse Mode\n",
        "For general info on the dataset please visit: https://apps.peer.berkeley.edu/phi-net/download/\n",
        "\n",
        "The download link for the data: https://apps.peer.berkeley.edu/phichallenge/dataset/3ddwa5567\n",
        "\n"
      ],
      "metadata": {
        "id": "OjU71z9L6Ki0"
      }
    },
    {
      "cell_type": "code",
      "source": [
        "!wget -O data.zip https://apps.peer.berkeley.edu/phichallenge/dataset/3ddwa5567\n",
        "!unzip data.zip"
      ],
      "metadata": {
        "colab": {
          "base_uri": "https://localhost:8080/"
        },
        "id": "wdIwqji451Wu",
        "outputId": "efc26490-9cc9-4a60-9c6f-cb5f9393c386"
      },
      "execution_count": 3,
      "outputs": [
        {
          "output_type": "stream",
          "name": "stdout",
          "text": [
            "--2022-07-26 12:57:32--  https://apps.peer.berkeley.edu/phichallenge/dataset/3ddwa5567\n",
            "Resolving apps.peer.berkeley.edu (apps.peer.berkeley.edu)... 128.32.143.24, 2607:f140:0:f::24\n",
            "Connecting to apps.peer.berkeley.edu (apps.peer.berkeley.edu)|128.32.143.24|:443... connected.\n",
            "HTTP request sent, awaiting response... 302 Found\n",
            "Location: https://apps.peer.berkeley.edu/phichallenge/dataset/task5_collapse_mode.zip [following]\n",
            "--2022-07-26 12:57:32--  https://apps.peer.berkeley.edu/phichallenge/dataset/task5_collapse_mode.zip\n",
            "Reusing existing connection to apps.peer.berkeley.edu:443.\n",
            "HTTP request sent, awaiting response... 200 OK\n",
            "Length: 232967101 (222M) [application/zip]\n",
            "Saving to: ‘data.zip’\n",
            "\n",
            "data.zip            100%[===================>] 222.17M   144MB/s    in 1.5s    \n",
            "\n",
            "2022-07-26 12:57:33 (144 MB/s) - ‘data.zip’ saved [232967101/232967101]\n",
            "\n",
            "Archive:  data.zip\n",
            "   creating: task5/\n",
            "  inflating: task5/task5_X_test.npy  \n",
            "  inflating: task5/task5_y_test.npy  \n",
            "  inflating: task5/task5_X_train.npy  \n",
            "  inflating: task5/task5_y_train.npy  \n",
            "  inflating: task5/license.txt       \n",
            "  inflating: task5/README.txt        \n"
          ]
        }
      ]
    },
    {
      "cell_type": "markdown",
      "source": [
        "##Preprocess Φ-Net Data:\n",
        "Φ-Net stores image data as a one big numpy array. These images are saved in BGR format and need to be normalized to convert into the correct RGB format.\n",
        "\n",
        "BRAILS expects training data in the following format\n",
        "\n",
        "![Screenshot 2022-07-26 042446.png](data:image/png;base64,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)\n",
        "\n",
        "The following code parses the raw Φ-Net Data into this format."
      ],
      "metadata": {
        "id": "FCoKawD6NwZD"
      }
    },
    {
      "cell_type": "code",
      "source": [
        "datadir = 'task5/'            # Root directory the Numpy files are stored \n",
        "classes = ['GC', 'NC', 'PC']  # Classes corresponding to the labels in the Numpy files\n",
        "                              # GC: Global collapse, NC: No collapse, PC: Partial collapse\n",
        "\n",
        "for phase in ['train', 'val']:\n",
        "    for cl in classes: \n",
        "        os.makedirs(datadir + f'data/{phase}/{cl}',exist_ok=True)\n",
        "        os.makedirs(datadir + f'data/{phase}/{cl}',exist_ok=True)\n",
        "    if phase=='val':\n",
        "        phasew = 'test'\n",
        "    else:\n",
        "        phasew = 'train'\n",
        "    ims = np.load(datadir + f'task5_X_{phasew}.npy')\n",
        "    maxpix = np.amax(ims)\n",
        "    minpix = np.amin(ims)\n",
        "    labels = np.load(datadir + f'task5_y_{phasew}.npy')\n",
        "    labels[:,1]*=2\n",
        "    labels[:,2]*=3\n",
        "    labels = (labels[np.where(labels!=0)] - 1).astype(int)\n",
        "    for im in range(0,len(ims)):\n",
        "            img = ((ims[im,:,:,:]) - minpix)*255/(maxpix - minpix)\n",
        "            cl = classes[labels[im]]\n",
        "            cv2.imwrite(datadir + f'data/{phase}/{cl}/{im}.jpg', img)"
      ],
      "metadata": {
        "id": "W0EiiGQA7NQs"
      },
      "execution_count": 4,
      "outputs": []
    },
    {
      "cell_type": "markdown",
      "source": [
        "## Call BRAILS ImageClassifier to train a classifier model:\n",
        "\n",
        "**ImageClassifier(modelArch=\"efficientnetv2s\")** initiates the classifier model class object with a classifer architecture. Available architectures are ResNet18, EfficientNet_v2 (small, medium, large), ConvNext (small, base, large), RegNet (16, 32), and Vision Transformer (ViT14, ViT16)\n",
        "\n",
        "**ImageClassifier.train(trainDataDir='tmp/hymenoptera_data', batchSize=8, nepochs=100)** trains a classifier model for a defined trainDataDir, training batch size and number of epochs.\n",
        "\n",
        "**ImageClassifier.retrain(modelPath=tmp/models/trained_model.pth,trainDataDir='tmp/hymenoptera_data', batchSize=8, nepochs=100)** further finetunes a classifier model for a defined trainDataDir, training batch size and number of epochs. The defined model in modelPath and the training data in trainDataDir must be compatible to use this method."
      ],
      "metadata": {
        "id": "uAz8pED5Ujsc"
      }
    },
    {
      "cell_type": "code",
      "source": [
        "from brails.modules import ImageClassifier\n",
        "imClassifier = ImageClassifier()\n",
        "imClassifier.train(trainDataDir='task5/data',nepochs=20)"
      ],
      "metadata": {
        "colab": {
          "base_uri": "https://localhost:8080/",
          "height": 1000,
          "referenced_widgets": [
            "692ed56a73604eae9747400f39884df2",
            "287a2f2b0b1f4d83b5d7c006579461d9",
            "e9ee45e4ff25484897eb5876543ca08e",
            "f6b8ecd1015a45e9962f17aa2ce32bcc",
            "cedeba7835914ccdbb0c411d95fb3dca",
            "9e0c491fb3d845aeab35dde44bae6615",
            "d87bacbb60064e49a9227b7aa7017180",
            "933ce03e37bb46c9af82cb13ae649a2b",
            "85c6ca8ad96a4052af2090f4922e06bf",
            "562ab3c5e2194965b186a8e78c1408fa",
            "6696f76a2a0443498b57450613f8d1ef"
          ]
        },
        "id": "Sm4XZ_9S8APm",
        "outputId": "e4a83ead-65c7-41c4-c539-0e5f24a6667c"
      },
      "execution_count": 5,
      "outputs": [
        {
          "output_type": "stream",
          "name": "stderr",
          "text": [
            "Downloading: \"https://download.pytorch.org/models/efficientnet_v2_s-dd5fe13b.pth\" to /root/.cache/torch/hub/checkpoints/efficientnet_v2_s-dd5fe13b.pth\n"
          ]
        },
        {
          "output_type": "display_data",
          "data": {
            "text/plain": [
              "  0%|          | 0.00/82.7M [00:00<?, ?B/s]"
            ],
            "application/vnd.jupyter.widget-view+json": {
              "version_major": 2,
              "version_minor": 0,
              "model_id": "692ed56a73604eae9747400f39884df2"
            }
          },
          "metadata": {}
        },
        {
          "output_type": "stream",
          "name": "stdout",
          "text": [
            "Epoch 0/9\n",
            "----------\n",
            "Train Loss: 0.9223 Acc: 0.5734\n",
            "Val Loss: 0.7231 Acc: 0.6986\n",
            "\n",
            "Epoch 1/9\n",
            "----------\n",
            "Train Loss: 0.7432 Acc: 0.6688\n",
            "Val Loss: 0.6878 Acc: 0.6986\n",
            "\n",
            "Epoch 2/9\n",
            "----------\n",
            "Train Loss: 0.7030 Acc: 0.6860\n",
            "Val Loss: 0.6614 Acc: 0.7260\n",
            "\n",
            "Epoch 3/9\n",
            "----------\n",
            "Train Loss: 0.6857 Acc: 0.6884\n",
            "Val Loss: 0.6161 Acc: 0.7055\n",
            "\n",
            "Epoch 4/9\n",
            "----------\n",
            "Train Loss: 0.6701 Acc: 0.6974\n",
            "Val Loss: 0.6229 Acc: 0.7260\n",
            "\n",
            "Epoch 5/9\n",
            "----------\n",
            "Train Loss: 0.6277 Acc: 0.7251\n",
            "Val Loss: 0.6413 Acc: 0.7123\n",
            "\n",
            "Epoch 6/9\n",
            "----------\n",
            "Train Loss: 0.5945 Acc: 0.7447\n",
            "Val Loss: 0.6426 Acc: 0.7123\n",
            "\n",
            "Epoch 7/9\n",
            "----------\n",
            "Train Loss: 0.5884 Acc: 0.7431\n",
            "Val Loss: 0.6127 Acc: 0.7123\n",
            "\n",
            "Epoch 8/9\n",
            "----------\n",
            "Train Loss: 0.5187 Acc: 0.7781\n",
            "Val Loss: 0.6349 Acc: 0.7397\n",
            "\n",
            "Epoch 9/9\n",
            "----------\n",
            "Train Loss: 0.4787 Acc: 0.7896\n",
            "Val Loss: 0.6122 Acc: 0.7123\n",
            "\n",
            "Best val Acc: 0.739726\n",
            "Elapsed time: 5m 14s\n",
            "New classifier head trained using transfer learning.\n",
            "\n",
            "Fine-tuning the model...\n",
            "Epoch 0/9\n",
            "----------\n",
            "Train Loss: 0.4954 Acc: 0.7887\n",
            "Val Loss: 0.6414 Acc: 0.7260\n",
            "\n",
            "Epoch 1/9\n",
            "----------\n",
            "Train Loss: 0.4933 Acc: 0.7936\n",
            "Val Loss: 0.6847 Acc: 0.7192\n",
            "\n",
            "Epoch 2/9\n",
            "----------\n",
            "Train Loss: 0.4834 Acc: 0.7953\n",
            "Val Loss: 0.6203 Acc: 0.7603\n",
            "\n",
            "Epoch 3/9\n",
            "----------\n",
            "Train Loss: 0.4484 Acc: 0.8197\n",
            "Val Loss: 0.6084 Acc: 0.7740\n",
            "\n",
            "Epoch 4/9\n",
            "----------\n",
            "Train Loss: 0.4652 Acc: 0.8018\n",
            "Val Loss: 0.6248 Acc: 0.7671\n",
            "\n",
            "Epoch 5/9\n",
            "----------\n",
            "Train Loss: 0.4383 Acc: 0.8197\n",
            "Val Loss: 0.6166 Acc: 0.7603\n",
            "\n",
            "Epoch 6/9\n",
            "----------\n",
            "Train Loss: 0.4284 Acc: 0.8279\n",
            "Val Loss: 0.6150 Acc: 0.7671\n",
            "\n",
            "Epoch 7/9\n",
            "----------\n",
            "Train Loss: 0.4276 Acc: 0.8157\n",
            "Val Loss: 0.6182 Acc: 0.7740\n",
            "\n",
            "Epoch 8/9\n",
            "----------\n",
            "Train Loss: 0.4142 Acc: 0.8279\n",
            "Val Loss: 0.6225 Acc: 0.7671\n",
            "\n",
            "Epoch 9/9\n",
            "----------\n",
            "Train Loss: 0.4540 Acc: 0.8042\n",
            "Val Loss: 0.6306 Acc: 0.7466\n",
            "\n",
            "Best val Acc: 0.773973\n",
            "Elapsed time: 5m 6s\n",
            "Training complete.\n"
          ]
        }
      ]
    },
    {
      "cell_type": "markdown",
      "source": [
        "## Plot the change in validation accuracy over training epochs:\n",
        "**predict(modelPath='tmp/models/trained_model.pth', \n",
        "                testDataDir='tmp/hymenoptera_data/val/ants',\n",
        "                classes=['Ants','Bees'])** loads the model in modelPath and uses this model to predict the classes for the image data in testDataDir using the labels listed in classes. The folder structure for testDataDir must be the same as the structure for trainDataDir"
      ],
      "metadata": {
        "id": "vatwaFdkYftW"
      }
    },
    {
      "cell_type": "code",
      "source": [
        "plt.title(\"Validation Accuracy vs. Number of Training Epochs\")\n",
        "plt.xlabel(\"Training Epochs\")\n",
        "plt.ylabel(\"Validation Accuracy\")\n",
        "plt.plot(range(1,len(imClassifier.lossHistory)+1),imClassifier.lossHistory)\n",
        "plt.ylim((0.4,1.))\n",
        "plt.xticks(np.arange(1, len(imClassifier.lossHistory)+1, 1.0))\n",
        "plt.show()"
      ],
      "metadata": {
        "id": "S0HFS0OmNeEd"
      },
      "execution_count": 6,
      "outputs": []
    },
    {
      "cell_type": "markdown",
      "source": [
        "## Randomly select a number of samples from each class to see how well we predict:"
      ],
      "metadata": {
        "id": "0G9jg_lalvyi"
      }
    },
    {
      "cell_type": "code",
      "source": [
        "nsamples = 3\n",
        "for cl in  classes:\n",
        "    ims = os.listdir(datadir+f'data/val/{cl}')\n",
        "    samples = random.sample(ims,nsamples)\n",
        "    for sample in samples:\n",
        "        imClassifier.predict(testDataDir=datadir+f'data/val/{cl}/{sample}',\n",
        "                                                  classes = classes)\n",
        "        print(f'Actual class: {cl}')"
      ],
      "metadata": {
        "colab": {
          "base_uri": "https://localhost:8080/"
        },
        "id": "GCCCt7DFYKhM",
        "outputId": "cadfdc83-72be-4c82-d01f-b5134316140f"
      },
      "execution_count": 7,
      "outputs": [
        {
          "output_type": "stream",
          "name": "stdout",
          "text": [
            "Predicted class: Gc\n",
            "Actual class: GC\n",
            "Predicted class: Pc\n",
            "Actual class: GC\n",
            "Predicted class: Gc\n",
            "Actual class: GC\n",
            "Predicted class: Nc\n",
            "Actual class: NC\n",
            "Predicted class: Nc\n",
            "Actual class: NC\n",
            "Predicted class: Pc\n",
            "Actual class: NC\n",
            "Predicted class: Pc\n",
            "Actual class: PC\n",
            "Predicted class: Pc\n",
            "Actual class: PC\n",
            "Predicted class: Gc\n",
            "Actual class: PC\n"
          ]
        }
      ]
    }
  ]
}