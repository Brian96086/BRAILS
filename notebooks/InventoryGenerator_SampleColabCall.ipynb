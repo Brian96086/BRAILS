{
 "cells": [
  {
   "cell_type": "markdown",
   "metadata": {
    "colab_type": "text",
    "id": "view-in-github"
   },
   "source": [
    "<a href=\"https://colab.research.google.com/github/bacetiner/BRAILS/blob/master/notebooks/InventoryGeneratorLocalTesting.ipynb\" target=\"_parent\"><img src=\"https://colab.research.google.com/assets/colab-badge.svg\" alt=\"Open In Colab\"/></a>"
   ]
  },
  {
   "cell_type": "markdown",
   "metadata": {},
   "source": [
    "## Install the latest version of BRAILS:"
   ]
  },
  {
   "cell_type": "code",
   "execution_count": null,
   "metadata": {
    "colab": {
     "base_uri": "https://localhost:8080/"
    },
    "id": "qSKGJQUOvll9",
    "outputId": "666629d6-e158-4aeb-829f-028cf8a69bf6"
   },
   "outputs": [],
   "source": [
    "pip install git+https://github.com/NHERI-SimCenter/BRAILS"
   ]
  },
  {
   "cell_type": "markdown",
   "metadata": {},
   "source": [
    "## Initialize the InventoryGenerator for your location of interest:\n",
    "If the provided API Key is valid and has the required APIs (i.e., Street View Static API, and Maps Static API) enabled, the following code will display work as expected.\n",
    "\n",
    "If you receive an API key error, please make sure you have a [valid API key](https://developers.google.com/maps/documentation/embed/get-api-key) and [have Street View Static API, and Maps Static API enabled](https://support.google.com/googleapi/answer/6158841?hl=en) for this key."
   ]
  },
  {
   "cell_type": "code",
   "execution_count": null,
   "metadata": {
    "colab": {
     "base_uri": "https://localhost:8080/",
     "height": 235
    },
    "id": "gWzCiBa50b98",
    "outputId": "6a74c5d7-c8bf-422c-af28-fb48ca77a36f"
   },
   "outputs": [],
   "source": [
    "\n",
    "# Import InventoryGenerator:\n",
    "from brails.InventoryGenerator import InventoryGenerator\n",
    "\n",
    "# Initialize InventoryGenerator:\n",
    "invGenerator = InventoryGenerator(location='Enter the Location You Want the Inventory for Here, e.g., Berkeley, CA',\n",
    "                                  nbldgs=100, randomSelection=True,\n",
    "                                  GoogleAPIKey=\"Enter Google API Key Here\")"
   ]
  },
  {
   "cell_type": "markdown",
   "metadata": {},
   "source": [
    "## Run InventoryGenerator for all enabled attributes "
   ]
  },
  {
   "cell_type": "code",
   "execution_count": null,
   "metadata": {
    "id": "p9CUHE3L5uHw"
   },
   "outputs": [],
   "source": [
    "#invGenerator.enabledAttributes\n",
    "invGenerator.generate(attributes='all')"
   ]
  },
  {
   "cell_type": "markdown",
   "metadata": {},
   "source": [
    "## Show a snippet of the computed attribute values:"
   ]
  },
  {
   "cell_type": "code",
   "execution_count": null,
   "metadata": {
    "id": "aTs45AdMAr4f"
   },
   "outputs": [],
   "source": [
    "invGenerator.inventory"
   ]
  },
  {
   "cell_type": "markdown",
   "metadata": {},
   "source": [
    "## Scroll through the images parsed by the InventoryGenerator"
   ]
  },
  {
   "cell_type": "code",
   "execution_count": null,
   "metadata": {
    "id": "DL-ZALSqHGin"
   },
   "outputs": [],
   "source": [
    "from IPython.display import Image\n",
    "import os\n",
    "images = ['tmp/images/street/' + im im in os.listdir('tmp/images/street')]\n",
    "Image(filename=images[-1]) "
   ]
  },
  {
   "cell_type": "markdown",
   "metadata": {},
   "source": [
    "## Download the created inventory table as a CSV file:"
   ]
  },
  {
   "cell_type": "code",
   "execution_count": null,
   "metadata": {
    "id": "mU14EHF2Jd4u"
   },
   "outputs": [],
   "source": [
    "from google.colab import files\n",
    "files.download('inventory.csv') "
   ]
  }
 ],
 "metadata": {
  "accelerator": "GPU",
  "colab": {
   "authorship_tag": "ABX9TyM2CmHuPe6821wODxbNfdyi",
   "collapsed_sections": [],
   "include_colab_link": true,
   "machine_shape": "hm",
   "name": "InventoryGeneratorLocalTesting.ipynb",
   "provenance": []
  },
  "kernelspec": {
   "display_name": "Python 3 (ipykernel)",
   "language": "python",
   "name": "python3"
  },
  "language_info": {
   "codemirror_mode": {
    "name": "ipython",
    "version": 3
   },
   "file_extension": ".py",
   "mimetype": "text/x-python",
   "name": "python",
   "nbconvert_exporter": "python",
   "pygments_lexer": "ipython3",
   "version": "3.8.12"
  }
 },
 "nbformat": 4,
 "nbformat_minor": 4
}
